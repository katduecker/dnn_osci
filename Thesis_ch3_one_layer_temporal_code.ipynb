{
  "nbformat": 4,
  "nbformat_minor": 0,
  "metadata": {
    "colab": {
      "provenance": [],
      "authorship_tag": "ABX9TyOj1UWx3wkq58TI3f0TFQbQ",
      "include_colab_link": true
    },
    "kernelspec": {
      "name": "python3",
      "display_name": "Python 3"
    },
    "language_info": {
      "name": "python"
    }
  },
  "cells": [
    {
      "cell_type": "markdown",
      "metadata": {
        "id": "view-in-github",
        "colab_type": "text"
      },
      "source": [
        "<a href=\"https://colab.research.google.com/github/katduecker/dnn_osci/blob/main/Thesis_ch3_one_layer_temporal_code.ipynb\" target=\"_parent\"><img src=\"https://colab.research.google.com/assets/colab-badge.svg\" alt=\"Open In Colab\"/></a>"
      ]
    },
    {
      "cell_type": "code",
      "source": [
        "rm -r dnn_osci     # delete old version in drive"
      ],
      "metadata": {
        "id": "-SeqbPd23qmV"
      },
      "execution_count": 1,
      "outputs": []
    },
    {
      "cell_type": "code",
      "execution_count": 2,
      "metadata": {
        "colab": {
          "base_uri": "https://localhost:8080/"
        },
        "id": "5zPOyIrl0Clh",
        "outputId": "9dc9f45f-bf48-46a6-bb23-24e97e8465b0"
      },
      "outputs": [
        {
          "output_type": "stream",
          "name": "stdout",
          "text": [
            "Cloning into 'dnn_osci'...\n",
            "remote: Enumerating objects: 534, done.\u001b[K\n",
            "remote: Counting objects: 100% (121/121), done.\u001b[K\n",
            "remote: Compressing objects: 100% (106/106), done.\u001b[K\n",
            "remote: Total 534 (delta 67), reused 27 (delta 15), pack-reused 413\u001b[K\n",
            "Receiving objects: 100% (534/534), 54.36 MiB | 17.00 MiB/s, done.\n",
            "Resolving deltas: 100% (285/285), done.\n",
            "/content/dnn_osci\n",
            "/content/dnn_osci/aet_pytorch\n"
          ]
        }
      ],
      "source": [
        "!git clone https://github.com/katduecker/dnn_osci\n",
        "%cd dnn_osci\n",
        "%cd aet_pytorch/"
      ]
    },
    {
      "cell_type": "code",
      "source": [
        "import torch\n",
        "import matplotlib.pyplot as plt\n",
        "from torch import nn\n",
        "import numpy as np\n",
        "\n",
        "import aet_dyn\n",
        "import aet_net\n",
        "# get CUDA index\n",
        "DEVICE = torch.device('cuda' if torch.cuda.is_available() else 'cpu')"
      ],
      "metadata": {
        "id": "eO0HxJY01w3R"
      },
      "execution_count": 3,
      "outputs": []
    },
    {
      "cell_type": "code",
      "source": [
        "def euler_dyn(model,input_,params_,t_,alpha_params,DEVICE,inp_on):\n",
        "\n",
        "    # inputs:\n",
        "        # input_: input image\n",
        "        # params_: hyperparameters\n",
        "        # t_: time vector for integration\n",
        "        # alpha_params: alpha frequency & amplitude\n",
        "\n",
        "    # discretization & dynamics parameters\n",
        "    tau_h,tau_R,c,S,h_start,R_start = params_\n",
        "\n",
        "\n",
        "    # alpha frequency & amplitude\n",
        "    _af,_aa,_aph = alpha_params\n",
        "\n",
        "    with torch.no_grad():\n",
        "\n",
        "        # initialize empty matrices\n",
        "        dt = np.diff(t_)[0]\n",
        "        dhdt = (torch.ones((model.dims[1],len(t_)+1))*h_start).to(DEVICE)\n",
        "        dRdt = (torch.ones((model.dims[1],len(t_)+1))*R_start).to(DEVICE)\n",
        "        dOdt = (torch.zeros((model.dims[2],len(t_)+1))).to(DEVICE)\n",
        "        dZdt = (torch.zeros((model.dims[1],len(t_)+1))).to(DEVICE)\n",
        "\n",
        "        # alpha inhibition\n",
        "        alpha_inh = _aa*np.sin(2*np.pi*_af*t_+_aph)+_aa\n",
        "\n",
        "        # preactivation (dot product of input and first weight matrix)\n",
        "        Z,_,_ = model.forw_conv(input_)\n",
        "\n",
        "        # create boxcar function to try different input onsets\n",
        "        boxcar = np.zeros_like(t_)\n",
        "        boxcar[inp_on:] = 1\n",
        "\n",
        "        # adjust initial adaptation term (threshold)\n",
        "        dRdt *= torch.max(Z)\n",
        "\n",
        "        # scale for adaptation\n",
        "        #r_scale = R*torch.max(Z).detach()\n",
        "\n",
        "\n",
        "        for _it,t in enumerate(t_):\n",
        "\n",
        "            # dynamic input: multiply input with boxcar\n",
        "            Z,_,_ = model.forw_conv(input_*boxcar[_it])\n",
        "\n",
        "          # pre-activation\n",
        "            dZdt[:,_it+1] = (Z + dhdt[:,_it] - dRdt[:,_it] - alpha_inh[_it])/(S/Z)\n",
        "\n",
        "            # dynamics hidden layer\n",
        "            dhdt[:,_it+1] = dhdt[:,_it] + dt/tau_h * (-dhdt[:,_it] + model.acti1(dZdt[:,_it+1],model.sig_param))\n",
        "\n",
        "            # adaptation term\n",
        "            dRdt[:,_it+1] = dRdt[:,_it] + dt/tau_R * (-dRdt[:,_it] + c*dhdt[:,_it+1])\n",
        "\n",
        "            # output layer\n",
        "            dOdt[:,_it+1] = model.actiout(model.fc1(dhdt[:,_it+1]))\n",
        "\n",
        "    return dZdt, dhdt, dRdt, dOdt\n"
      ],
      "metadata": {
        "id": "BlnqsOV-2_W4"
      },
      "execution_count": 4,
      "outputs": []
    },
    {
      "cell_type": "code",
      "source": [
        "nn_dim_ = [28,68,3]   # [quadrant size, number of hidden nodes, number of output nodes]\n",
        "eta_ = 0.1           # learning rate\n",
        "mini_sz_ = 1          # mini batch size (1 = use SGD)\n",
        "num_epo_ = 80\n",
        "\n",
        "beta_ = 0\n",
        "p_ = 0\n",
        "kl_reg_ = [0,0.01]#[0,0.001] # sparsity constraint parameters (not used for manual model)\n",
        "sig_param = [2, -2.5, False] # sigmoid slope and shift in x direction\n",
        "\n",
        "ortho_lmbda = 0.3 # orthogonality penalty\n",
        "\n",
        "# loss function & final layer activation (for binary crossentropy use sigmoid)\n",
        "lossfun = [nn.MSELoss(), nn.Softmax(dim=-1)]\n",
        "\n",
        "params = nn_dim_,eta_,mini_sz_,num_epo_,kl_reg_,sig_param,ortho_lmbda\n",
        "\n",
        "# initialize model and weights\n",
        "model = aet_net.net(params,lossfun)\n",
        "model = aet_net.init_params(model,weight_init='uni')\n",
        "optimizer = torch.optim.SGD(model.parameters(),lr=eta_)\n",
        "\n",
        "model.to(DEVICE)\n",
        "loss_hist = model.train(optimizer,noise=False,print_loss=False)\n",
        "\n",
        "\n",
        "plt.rcParams[\"figure.figsize\"] = (10,5)\n",
        "plt.plot(np.arange(model.num_ep),loss_hist.cpu().detach().numpy())\n",
        "plt.ylabel('loss')\n",
        "plt.xlabel('epoch')\n",
        "plt.show()"
      ],
      "metadata": {
        "colab": {
          "base_uri": "https://localhost:8080/",
          "height": 500
        },
        "id": "ELfbdx0V3iKR",
        "outputId": "484e9330-bfc4-4275-cd74-4fc9493fad4f"
      },
      "execution_count": 5,
      "outputs": [
        {
          "output_type": "stream",
          "name": "stderr",
          "text": [
            "/usr/local/lib/python3.10/dist-packages/torch/nn/modules/loss.py:536: UserWarning: Using a target size (torch.Size([3])) that is different to the input size (torch.Size([1, 3])). This will likely lead to incorrect results due to broadcasting. Please ensure they have the same size.\n",
            "  return F.mse_loss(input, target, reduction=self.reduction)\n"
          ]
        },
        {
          "output_type": "display_data",
          "data": {
            "text/plain": [
              "<Figure size 1000x500 with 1 Axes>"
            ],
            "image/png": "[encoded data removed]"
          },
          "metadata": {}
        }
      ]
    },
    {
      "cell_type": "code",
      "source": [
        "# create stimuli\n",
        "x_train, y_train = aet_net.aet_stim.mkstim()\n",
        "x_train = x_train.to(DEVICE)\n",
        "y_train = y_train.to(DEVICE)"
      ],
      "metadata": {
        "id": "i_4SOV4g4OTw"
      },
      "execution_count": 6,
      "outputs": []
    },
    {
      "cell_type": "code",
      "source": [
        "Z, H, O = model.forw_conv(x_train)\n",
        "max(Z[2])"
      ],
      "metadata": {
        "id": "_JAw7944epvY",
        "colab": {
          "base_uri": "https://localhost:8080/"
        },
        "outputId": "18384e0b-ecab-4625-b1c7-1f1680dc74e0"
      },
      "execution_count": 7,
      "outputs": [
        {
          "output_type": "execute_result",
          "data": {
            "text/plain": [
              "tensor(4.4018, grad_fn=<UnbindBackward0>)"
            ]
          },
          "metadata": {},
          "execution_count": 7
        }
      ]
    },
    {
      "cell_type": "code",
      "source": [
        "idx = np.array((0,5,10))#,-1))\n",
        "label = ['A','E','T']\n",
        "\n",
        "\n",
        "plt.rcParams[\"figure.figsize\"] = (15,5)\n",
        "\n",
        "fig, axs = plt.subplots(1,3)\n",
        "axs = axs.ravel()\n",
        "\n",
        "for i,ax in enumerate(axs):\n",
        "\n",
        "    ax.bar(np.arange(nn_dim_[1]),H[idx[i]].detach().numpy().squeeze())\n",
        "    ax.set_title(label[i])\n"
      ],
      "metadata": {
        "id": "0w781JhLd3oz",
        "colab": {
          "base_uri": "https://localhost:8080/",
          "height": 468
        },
        "outputId": "ec9efd77-21cb-4839-b9e9-6ecdb9261c45"
      },
      "execution_count": 8,
      "outputs": [
        {
          "output_type": "display_data",
          "data": {
            "text/plain": [
              "<Figure size 1500x500 with 3 Axes>"
            ],
            "image/png": "[encoded data removed]"
          },
          "metadata": {}
        }
      ]
    },
    {
      "cell_type": "code",
      "source": [
        "max(Z)"
      ],
      "metadata": {
        "colab": {
          "base_uri": "https://localhost:8080/",
          "height": 176
        },
        "id": "LEjuzieWDgW_",
        "outputId": "b9d0e21c-aab2-44c9-ee40-6f1945a62b36"
      },
      "execution_count": 9,
      "outputs": [
        {
          "output_type": "error",
          "ename": "RuntimeError",
          "evalue": "ignored",
          "traceback": [
            "\u001b[0;31m---------------------------------------------------------------------------\u001b[0m",
            "\u001b[0;31mRuntimeError\u001b[0m                              Traceback (most recent call last)",
            "\u001b[0;32m<ipython-input-9-c6f90058f798>\u001b[0m in \u001b[0;36m<cell line: 1>\u001b[0;34m()\u001b[0m\n\u001b[0;32m----> 1\u001b[0;31m \u001b[0mmax\u001b[0m\u001b[0;34m(\u001b[0m\u001b[0mZ\u001b[0m\u001b[0;34m)\u001b[0m\u001b[0;34m\u001b[0m\u001b[0;34m\u001b[0m\u001b[0m\n\u001b[0m",
            "\u001b[0;31mRuntimeError\u001b[0m: Boolean value of Tensor with more than one value is ambiguous"
          ]
        }
      ]
    },
    {
      "cell_type": "code",
      "source": [
        "# dynamics\n",
        "\n",
        "tau_h = 0.01\n",
        "tau_r = 0.1\n",
        "c = 10\n",
        "S = .4\n",
        "h_start = 0\n",
        "R_start = 0\n",
        "dyn_params = [tau_h,tau_r,c,S,h_start,R_start]   # [tau_h, tau_r, r_scale factor, T, h start, R start]\n",
        "\n",
        "# dynamics alpha\n",
        "aamp = 0\n",
        "afreq = 10\n",
        "aph = 0\n",
        "alpha_params = [afreq,aamp,aph]\n",
        "_io = 0\n",
        "\n",
        "timevec = np.linspace(0,0.6,600)\n",
        "\n",
        "Zt,Ht, Rt, Ot  = euler_dyn(model,x_train[0], dyn_params, timevec, alpha_params,DEVICE,inp_on=_io)\n",
        "\n",
        "Zt = Zt.detach().cpu().numpy()\n",
        "Ht = Ht.detach().cpu().numpy()\n",
        "Rt = Rt.detach().cpu().numpy()\n",
        "Ot = Ot.detach().cpu().numpy()"
      ],
      "metadata": {
        "id": "y9-js3oU8Q4L"
      },
      "execution_count": null,
      "outputs": []
    },
    {
      "cell_type": "code",
      "source": [
        "Z, H, O = model.forw_conv(x_train[0])\n",
        "Z = Z.detach().cpu().numpy()\n",
        "H = H.detach().cpu().numpy()\n",
        "O = O.detach().cpu().numpy()\n",
        "plt.rcParams[\"figure.figsize\"] = (24,120)\n",
        "\n",
        "fig, axs = plt.subplots(Zt.shape[0],4)\n",
        "\n",
        "t = 0\n",
        "\n",
        "for i,z in enumerate(np.argsort(Z)):\n",
        "  axs[i,0].plot(timevec[t:],Zt[z,t+1:])\n",
        "  axs[i,0].set_yticks((-Z[z],0,Z[z]))\n",
        "  axs[i,0].set_ylabel('Z')\n",
        "  axs[i,1].plot(timevec[t:],Ht[z,t+1:])\n",
        "\n",
        "  if aamp:\n",
        "    axs[i,1].plot(timevec[t:],0.5*np.sin(2*np.pi*afreq*timevec[t:]+aph)+0.5,color = 'k',linestyle='-.')\n",
        "  axs[i,1].fill_between(timevec[t:], np.tile(0,timevec[t:].shape[0]), np.tile(H[z],timevec[t:].shape[0]), alpha=0.15, color=[0, 0, 0])\n",
        "  axs[i,1].set_ylabel('H')\n",
        "\n",
        "  axs[i,1].set_ylim(0,1)\n",
        "  axs[i,2].plot(Rt[z,t+1:],Ht[z,t+1:])\n",
        "  axs[i,2].set_ylim(0,1)\n",
        "  axs[i,2].set_xlabel('R')\n",
        "  axs[i,2].set_ylabel('H')\n",
        "\n",
        "  dH = np.diff(Ht[z])\n",
        "\n",
        "  mark_sign_chan = np.array(())\n",
        "  for h in range(dH.shape[0]-1):\n",
        "    if (np.sign(dH[h])+np.sign(dH[h+1])) == 0:\n",
        "      mark_sign_chan = np.append(mark_sign_chan,h)\n",
        "\n",
        "  axs[i,3].plot(Rt[z,t+1:],dH)\n",
        "  axs[i,3].plot(Rt[z,(t+1+mark_sign_chan).astype(int)],dH[(t+mark_sign_chan).astype(int)],'d')\n",
        "  axs[i,3].set_xlabel('R')\n",
        "  axs[i,3].set_ylabel('dH')\n",
        "\n",
        "\n",
        "fig.tight_layout()\n"
      ],
      "metadata": {
        "id": "_QScBl0h8rfR"
      },
      "execution_count": null,
      "outputs": []
    },
    {
      "cell_type": "code",
      "source": [
        "# better image - only show unique Z's\n",
        "Z_round = np.round(Z,decimals=1)\n",
        "Z_round_idx = np.argsort(Z_round)\n",
        "Z_round_sort = np.sort(Z_round)\n",
        "Z_round_unique_idx = np.unique(Z_round_sort,return_index=True)\n",
        "\n",
        "plt.rcParams[\"figure.figsize\"] = (16,40)\n",
        "\n",
        "fig, axs = plt.subplots(Z_round_unique_idx[1].shape[0],4)\n",
        "\n",
        "t = 0\n",
        "\n",
        "for i,z in enumerate(Z_round_unique_idx[1]):\n",
        "  axs[i,0].plot(timevec[t:],Zt[Z_round_idx[z],t+1:])\n",
        "  axs[i,0].set_yticks((-Z[Z_round_idx[z]],0,Z[Z_round_idx[z]]))\n",
        "  axs[i,0].set_ylabel('Z')\n",
        "  axs[i,1].plot(timevec[t:],Ht[Z_round_idx[z],t+1:])\n",
        "\n",
        "  if aamp:\n",
        "    axs[i,1].plot(timevec[t:],0.5*np.sin(2*np.pi*afreq*timevec[t:]+aph)+0.5,color = 'k',linestyle='-.')\n",
        "  axs[i,1].fill_between(timevec[t:], np.tile(0,timevec[t:].shape[0]), np.tile(H[Z_round_idx[z]],timevec[t:].shape[0]), alpha=0.15, color=[0, 0, 0])\n",
        "  axs[i,1].set_ylabel('H')\n",
        "\n",
        "  axs[i,1].set_ylim(0,1)\n",
        "  axs[i,2].plot(Rt[Z_round_idx[z],t+1:],Ht[Z_round_idx[z],t+1:])\n",
        "  axs[i,2].set_ylim(0,1)\n",
        "  axs[i,2].set_xlabel('R')\n",
        "  axs[i,2].set_ylabel('H')\n",
        "\n",
        "  dH = np.diff(Ht[Z_round_idx[z]])\n",
        "\n",
        "  mark_sign_chan = np.array(())\n",
        "  for h in range(dH.shape[0]-1):\n",
        "    if (np.sign(dH[h])+np.sign(dH[h+1])) == 0:\n",
        "      mark_sign_chan = np.append(mark_sign_chan,h)\n",
        "\n",
        "  axs[i,3].plot(Rt[Z_round_idx[z],t+1:],dH)\n",
        "  axs[i,3].plot(Rt[Z_round_idx[z],(t+1+mark_sign_chan).astype(int)],dH[(t+mark_sign_chan).astype(int)],'d')\n",
        "  axs[i,3].set_xlabel('R')\n",
        "  axs[i,3].set_ylabel('dH')\n",
        "\n",
        "\n",
        "fig.tight_layout()\n"
      ],
      "metadata": {
        "id": "yvd_a8alJIKM"
      },
      "execution_count": null,
      "outputs": []
    },
    {
      "cell_type": "code",
      "source": [
        "plt.rcParams[\"figure.figsize\"] = (4,3)\n",
        "\n",
        "plt.plot(timevec,Ot[:,1:].T)\n",
        "plt.legend(('A(t)','E(t)','T(t)'),loc='lower right')"
      ],
      "metadata": {
        "id": "sCpTV1lQogNj"
      },
      "execution_count": null,
      "outputs": []
    },
    {
      "cell_type": "code",
      "source": [
        "# check temporal codeness\n",
        "\n",
        "inpt = x_train[0]*1.1 + x_train[-1]*0.9\n",
        "Zt,Ht, Rt, Ot  = euler_dyn(model,inpt, dyn_params, timevec, alpha_params,DEVICE,inp_on=_io)\n",
        "\n",
        "Zt = Zt.detach().cpu().numpy()\n",
        "Ht = Ht.detach().cpu().numpy()\n",
        "Rt = Rt.detach().cpu().numpy()\n",
        "Ot = Ot.detach().cpu().numpy()\n",
        "\n",
        "plt.rcParams[\"figure.figsize\"] = (4,3)\n",
        "\n",
        "plt.plot(timevec,Ot[:,1:].T)\n",
        "plt.legend(('A(t)','E(t)','T(t)'),loc='lower right')\n"
      ],
      "metadata": {
        "id": "U2XKQQSAL6Cd"
      },
      "execution_count": null,
      "outputs": []
    },
    {
      "cell_type": "code",
      "source": [
        "aamp = 0.25\n",
        "afreq = 10\n",
        "aph = 0\n",
        "alpha_params = [afreq,aamp,aph]\n",
        "\n",
        "Zt,Ht, Rt, Ot  = euler_dyn(model,x_train[0], dyn_params, timevec, alpha_params,DEVICE,inp_on=_io)\n",
        "\n",
        "\n",
        "plt.rcParams[\"figure.figsize\"] = (4,3)\n",
        "\n",
        "plt.plot(timevec,Ot[:,1:].T)\n",
        "if aamp:\n",
        "    plt.plot(timevec[t:],aamp*np.sin(2*np.pi*afreq*timevec[t:]+aph)+aamp,color = 'k',linestyle='-.')\n",
        "\n",
        "plt.legend(('A(t)','E(t)','T(t)','alpha(t)'),loc='lower right')\n"
      ],
      "metadata": {
        "id": "cZILhEgEMrhg"
      },
      "execution_count": null,
      "outputs": []
    },
    {
      "cell_type": "code",
      "source": [
        "aamp = 0.25\n",
        "afreq = 10\n",
        "aph = 0\n",
        "alpha_params = [afreq,aamp,aph]\n",
        "\n",
        "inpt = x_train[0]*1.1 + x_train[-1]*0.9\n",
        "Zt,Ht, Rt, Ot  = euler_dyn(model,inpt, dyn_params, timevec, alpha_params,DEVICE,inp_on=_io)\n",
        "\n",
        "Zt = Zt.detach().cpu().numpy()\n",
        "Ht = Ht.detach().cpu().numpy()\n",
        "Rt = Rt.detach().cpu().numpy()\n",
        "Ot = Ot.detach().cpu().numpy()\n",
        "\n",
        "plt.rcParams[\"figure.figsize\"] = (4,3)\n",
        "\n",
        "plt.plot(timevec,Ot[:,1:].T)\n",
        "if aamp:\n",
        "    plt.plot(timevec[t:],aamp*np.sin(2*np.pi*afreq*timevec[t:]+aph)+aamp,color = 'k',linestyle='-.')\n",
        "\n",
        "plt.legend(('A(t)','E(t)','T(t)','alpha(t)'),loc='lower right')"
      ],
      "metadata": {
        "id": "X23VoBSgMY9x"
      },
      "execution_count": null,
      "outputs": []
    },
    {
      "cell_type": "code",
      "source": [
        "inpt = x_train[0]*1.1 + x_train[6]*0.9\n",
        "Zt,Ht, Rt, Ot  = euler_dyn(model,inpt, dyn_params, timevec, alpha_params,DEVICE,inp_on=_io)\n",
        "\n",
        "Zt = Zt.detach().cpu().numpy()\n",
        "Ht = Ht.detach().cpu().numpy()\n",
        "Rt = Rt.detach().cpu().numpy()\n",
        "Ot = Ot.detach().cpu().numpy()\n",
        "\n",
        "plt.rcParams[\"figure.figsize\"] = (4,3)\n",
        "\n",
        "plt.plot(timevec,Ot[:,1:].T)\n",
        "if aamp:\n",
        "    plt.plot(timevec[t:],aamp*np.sin(2*np.pi*afreq*timevec[t:]+aph)+aamp,color = 'k',linestyle='-.')\n",
        "\n",
        "plt.legend(('A(t)','E(t)','T(t)','alpha(t)'),loc='lower right')"
      ],
      "metadata": {
        "id": "wbmUTV3_NSoQ"
      },
      "execution_count": null,
      "outputs": []
    },
    {
      "cell_type": "code",
      "source": [
        "\n",
        "aamp = 0.5\n",
        "afreq = 10\n",
        "aph = 0\n",
        "alpha_params = [afreq,aamp,aph]\n",
        "\n",
        "inpt = x_train[5]*1.1 + x_train[0]*0.9\n",
        "Zt,Ht, Rt, Ot  = euler_dyn(model,inpt, dyn_params, timevec, alpha_params,DEVICE,inp_on=_io)\n",
        "\n",
        "Zt = Zt.detach().cpu().numpy()\n",
        "Ht = Ht.detach().cpu().numpy()\n",
        "Rt = Rt.detach().cpu().numpy()\n",
        "Ot = Ot.detach().cpu().numpy()\n",
        "\n",
        "plt.rcParams[\"figure.figsize\"] = (4,3)\n",
        "\n",
        "plt.plot(timevec,Ot[:,1:].T)\n",
        "if aamp:\n",
        "    plt.plot(timevec[t:],aamp*np.sin(2*np.pi*afreq*timevec[t:]+aph)+aamp,color = 'k',linestyle='-.')\n",
        "\n",
        "plt.legend(('A(t)','E(t)','T(t)','alpha(t)'),loc='lower right')"
      ],
      "metadata": {
        "id": "EXFUSvUcN0G0"
      },
      "execution_count": null,
      "outputs": []
    },
    {
      "cell_type": "code",
      "source": [
        "\n",
        "aamp = 0.5\n",
        "afreq = 10\n",
        "aph = 0\n",
        "alpha_params = [afreq,aamp,aph]\n",
        "\n",
        "inpt = x_train[-1]*1.1 + x_train[0]*0.9\n",
        "Zt,Ht, Rt, Ot  = euler_dyn(model,inpt, dyn_params, timevec, alpha_params,DEVICE,inp_on=_io)\n",
        "\n",
        "Zt = Zt.detach().cpu().numpy()\n",
        "Ht = Ht.detach().cpu().numpy()\n",
        "Rt = Rt.detach().cpu().numpy()\n",
        "Ot = Ot.detach().cpu().numpy()\n",
        "\n",
        "plt.rcParams[\"figure.figsize\"] = (4,3)\n",
        "\n",
        "plt.plot(timevec,Ot[:,1:].T)\n",
        "if aamp:\n",
        "    plt.plot(timevec[t:],aamp*np.sin(2*np.pi*afreq*timevec[t:]+aph)+aamp,color = 'k',linestyle='-.')\n",
        "\n",
        "plt.legend(('A(t)','E(t)','T(t)','alpha(t)'),loc='lower right')"
      ],
      "metadata": {
        "id": "HMGYr1_zOESb"
      },
      "execution_count": null,
      "outputs": []
    }
  ]
}