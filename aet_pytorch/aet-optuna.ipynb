{
 "cells": [
  {
   "cell_type": "code",
   "execution_count": 2,
   "id": "1bad5722",
   "metadata": {
    "_cell_guid": "b1076dfc-b9ad-4769-8c92-a6c4dae69d19",
    "_uuid": "8f2839f25d086af736a60e9eeb907d3b93b6e0e5",
    "papermill": {
     "duration": 3.213294,
     "end_time": "2022-09-05T14:29:33.526180",
     "exception": false,
     "start_time": "2022-09-05T14:29:30.312886",
     "status": "completed"
    },
    "tags": []
   },
   "outputs": [],
   "source": [
    "import optuna\n",
    "import torch\n",
    "from torch import nn\n",
    "\n",
    "import numpy as np\n",
    "import aet_net\n",
    "from itertools import combinations\n",
    "\n",
    "import matplotlib.pyplot as plt"
   ]
  },
  {
   "cell_type": "code",
   "execution_count": 2,
   "id": "51c3a93b-449f-4c39-acaa-47af9176c4ef",
   "metadata": {},
   "outputs": [
    {
     "name": "stdout",
     "output_type": "stream",
     "text": [
      "1.10.0\n"
     ]
    }
   ],
   "source": [
    "print(torch.__version__)"
   ]
  },
  {
   "cell_type": "code",
   "execution_count": 3,
   "id": "d8197dc1",
   "metadata": {
    "papermill": {
     "duration": 0.070626,
     "end_time": "2022-09-05T14:29:33.600299",
     "exception": false,
     "start_time": "2022-09-05T14:29:33.529673",
     "status": "completed"
    },
    "tags": []
   },
   "outputs": [],
   "source": [
    "DEVICE = torch.device('cuda' if torch.cuda.is_available() else 'cpu')\n",
    "\n",
    "# model parameters\n",
    "\n",
    "nn_dim_ = [28,68,3]   # [quadrant size, number of hidden nodes, number of output nodes]\n",
    "eta_ = 0.1          # learning rate\n",
    "mini_sz_ = 1          # mini batch size (1 = use SGD)\n",
    "num_epo_ = 80\n",
    "kl_reg_ = [0.1, 0.1]  # identified with optuna\n",
    "\n",
    "sig_param = [1, 0] # sigmoid slope and shift in x direction\n",
    "\n",
    "# loss function & final layer activation (for binary crossentropy use sigmoid)\n",
    "lossfun = [nn.MSELoss(), nn.Softmax(dim=-1)]\n",
    "\n",
    "params = nn_dim_,eta_,mini_sz_,num_epo_,kl_reg_,sig_param\n",
    "\n",
    "# initialize model and weights\n",
    "model = aet_net.net(params,lossfun)\n",
    "model = aet_net.init_params(model,weight_init='uni')\n",
    "optimizer = torch.optim.SGD(model.parameters(),lr=eta_)\n",
    "\n",
    "model.to(DEVICE)\n",
    "loss_hist = model.train(optimizer,noise=False,print_loss=False)\n"
   ]
  },
  {
   "cell_type": "code",
   "execution_count": 4,
   "id": "0722f4db-a465-4a5e-9568-0ed64c51e88e",
   "metadata": {},
   "outputs": [],
   "source": [
    "data,output = aet_net.aet_stim.mkstim()"
   ]
  },
  {
   "cell_type": "code",
   "execution_count": 5,
   "id": "159bffe8-fd15-4169-9103-2e3ba7cc6ce0",
   "metadata": {},
   "outputs": [],
   "source": [
    " # \"tangledness\" of hidden represenations\n",
    "\n",
    "idx = np.array((0,5,10))#,-1))\n",
    "inp_combi = list(combinations(idx,2))           # possible input combinations\n",
    "all_angle_sum = torch.zeros(len(inp_combi))\n",
    "\n",
    "for i,c in enumerate(inp_combi):\n",
    "\n",
    "    H1 = data[c[0]]\n",
    "    H2 = data[c[1]]\n",
    "    H3 = data[c[0]]+data[c[1]]\n",
    "\n",
    "    # apply layer\n",
    "    _,H1,_ = model.forw_conv(H1)\n",
    "    _,H2,_ = model.forw_conv(H2)\n",
    "    _,H3,_ = model.forw_conv(H3)\n",
    "\n",
    "    H1_2 = H1+H2\n",
    "\n",
    "\n",
    "    num_ = torch.matmul(H3,H1_2)\n",
    "    denom_ = torch.linalg.vector_norm(H3)*torch.linalg.vector_norm(H1_2)\n",
    "    all_angle_sum[i] = (torch.acos(num_/denom_)*180/torch.pi).cpu().detach()\n"
   ]
  },
  {
   "cell_type": "code",
   "execution_count": 6,
   "id": "856f7368",
   "metadata": {
    "papermill": {
     "duration": 643.938133,
     "end_time": "2022-09-05T14:40:17.540745",
     "exception": true,
     "start_time": "2022-09-05T14:29:33.602612",
     "status": "failed"
    },
    "tags": []
   },
   "outputs": [
    {
     "name": "stderr",
     "output_type": "stream",
     "text": [
      "\u001b[32m[I 2023-03-16 18:15:56,453]\u001b[0m A new study created in memory with name: no-name-116be064-37b5-4d0c-9a3e-1d47af5c93bc\u001b[0m\n",
      "\u001b[32m[I 2023-03-16 18:16:02,581]\u001b[0m Trial 0 finished with value: 19.360801696777344 and parameters: {'ETA_': 0.18087075359947438, 'BETA_': 0.009983022815511462, 'P_': 0.009983923285973797}. Best is trial 0 with value: 19.360801696777344.\u001b[0m\n",
      "\u001b[32m[I 2023-03-16 18:16:08,677]\u001b[0m Trial 1 finished with value: 17.280771255493164 and parameters: {'ETA_': 0.1429557025472215, 'BETA_': 0.008742070386435753, 'P_': 0.004930216032260411}. Best is trial 1 with value: 17.280771255493164.\u001b[0m\n",
      "\u001b[32m[I 2023-03-16 18:16:14,803]\u001b[0m Trial 2 finished with value: 19.084514617919922 and parameters: {'ETA_': 0.13440137488176088, 'BETA_': 0.008372394775758813, 'P_': 0.010251713762814934}. Best is trial 1 with value: 17.280771255493164.\u001b[0m\n",
      "\u001b[32m[I 2023-03-16 18:16:20,937]\u001b[0m Trial 3 finished with value: 31.733999252319336 and parameters: {'ETA_': 0.042376846612126, 'BETA_': 0.0021804618882027846, 'P_': 0.018310797521821506}. Best is trial 1 with value: 17.280771255493164.\u001b[0m\n",
      "\u001b[32m[I 2023-03-16 18:16:27,107]\u001b[0m Trial 4 finished with value: 25.855798721313477 and parameters: {'ETA_': 0.18304785896481024, 'BETA_': 0.004539229011844609, 'P_': 0.0014371587226029864}. Best is trial 1 with value: 17.280771255493164.\u001b[0m\n",
      "\u001b[32m[I 2023-03-16 18:16:33,286]\u001b[0m Trial 5 finished with value: 19.814266204833984 and parameters: {'ETA_': 0.07186498840501779, 'BETA_': 0.004910380858615363, 'P_': 0.005600105207763917}. Best is trial 1 with value: 17.280771255493164.\u001b[0m\n",
      "\u001b[32m[I 2023-03-16 18:16:39,474]\u001b[0m Trial 6 finished with value: 19.65430450439453 and parameters: {'ETA_': 0.17338374731122783, 'BETA_': 0.00797717807388504, 'P_': 0.005502407580106659}. Best is trial 1 with value: 17.280771255493164.\u001b[0m\n",
      "\u001b[32m[I 2023-03-16 18:16:45,727]\u001b[0m Trial 7 finished with value: 20.580730438232422 and parameters: {'ETA_': 0.010188138444173728, 'BETA_': 0.0065771815150579855, 'P_': 0.005155040235610651}. Best is trial 1 with value: 17.280771255493164.\u001b[0m\n",
      "\u001b[32m[I 2023-03-16 18:16:52,033]\u001b[0m Trial 8 finished with value: 28.61259651184082 and parameters: {'ETA_': 0.1723962033573521, 'BETA_': 0.001225762909842991, 'P_': 0.006668270854914297}. Best is trial 1 with value: 17.280771255493164.\u001b[0m\n",
      "\u001b[32m[I 2023-03-16 18:16:58,264]\u001b[0m Trial 9 finished with value: 24.481794357299805 and parameters: {'ETA_': 0.09570419452207311, 'BETA_': 0.0043171678957802, 'P_': 0.013802375401531028}. Best is trial 1 with value: 17.280771255493164.\u001b[0m\n",
      "\u001b[32m[I 2023-03-16 18:17:04,521]\u001b[0m Trial 10 finished with value: 11.709704399108887 and parameters: {'ETA_': 0.1284087335774724, 'BETA_': 0.009797399014327572, 'P_': 0.0001259598610999363}. Best is trial 10 with value: 11.709704399108887.\u001b[0m\n",
      "\u001b[32m[I 2023-03-16 18:17:10,802]\u001b[0m Trial 11 finished with value: 13.061477661132812 and parameters: {'ETA_': 0.12989635633153915, 'BETA_': 0.009911601747804743, 'P_': 0.0004182752503830363}. Best is trial 10 with value: 11.709704399108887.\u001b[0m\n",
      "\u001b[32m[I 2023-03-16 18:17:17,053]\u001b[0m Trial 12 finished with value: 13.656944274902344 and parameters: {'ETA_': 0.12858040825919662, 'BETA_': 0.009867366205684684, 'P_': 0.0003952590690952314}. Best is trial 10 with value: 11.709704399108887.\u001b[0m\n",
      "\u001b[32m[I 2023-03-16 18:17:23,284]\u001b[0m Trial 13 finished with value: 16.98280906677246 and parameters: {'ETA_': 0.10833757148337687, 'BETA_': 0.006695565551379491, 'P_': 0.00154766809992224}. Best is trial 10 with value: 11.709704399108887.\u001b[0m\n",
      "\u001b[32m[I 2023-03-16 18:17:29,460]\u001b[0m Trial 14 finished with value: 19.60820770263672 and parameters: {'ETA_': 0.08415289781744575, 'BETA_': 0.007131105889824182, 'P_': 0.002230317919439097}. Best is trial 10 with value: 11.709704399108887.\u001b[0m\n",
      "\u001b[32m[I 2023-03-16 18:17:35,650]\u001b[0m Trial 15 finished with value: 19.647367477416992 and parameters: {'ETA_': 0.1486174191709967, 'BETA_': 0.008979376336012035, 'P_': 0.009482832045075816}. Best is trial 10 with value: 11.709704399108887.\u001b[0m\n",
      "\u001b[32m[I 2023-03-16 18:17:41,850]\u001b[0m Trial 16 finished with value: 24.14661979675293 and parameters: {'ETA_': 0.1173452966323033, 'BETA_': 0.0029612456429520635, 'P_': 0.003096970339892285}. Best is trial 10 with value: 11.709704399108887.\u001b[0m\n",
      "\u001b[32m[I 2023-03-16 18:17:48,070]\u001b[0m Trial 17 finished with value: 25.816436767578125 and parameters: {'ETA_': 0.0596375779666757, 'BETA_': 0.00588814566288461, 'P_': 0.019997105242837866}. Best is trial 10 with value: 11.709704399108887.\u001b[0m\n",
      "\u001b[32m[I 2023-03-16 18:17:54,294]\u001b[0m Trial 18 finished with value: 22.20557403564453 and parameters: {'ETA_': 0.15417444689435023, 'BETA_': 0.007599422225923601, 'P_': 0.014723712137737894}. Best is trial 10 with value: 11.709704399108887.\u001b[0m\n",
      "\u001b[32m[I 2023-03-16 18:18:00,526]\u001b[0m Trial 19 finished with value: 16.904592514038086 and parameters: {'ETA_': 0.11240686186863383, 'BETA_': 0.009128732350107182, 'P_': 0.00814432528760275}. Best is trial 10 with value: 11.709704399108887.\u001b[0m\n",
      "\u001b[32m[I 2023-03-16 18:18:06,755]\u001b[0m Trial 20 finished with value: 20.30524444580078 and parameters: {'ETA_': 0.1960974795902334, 'BETA_': 0.00955166848440049, 'P_': 0.0036093871010633785}. Best is trial 10 with value: 11.709704399108887.\u001b[0m\n",
      "\u001b[32m[I 2023-03-16 18:18:12,999]\u001b[0m Trial 21 finished with value: 14.785161972045898 and parameters: {'ETA_': 0.12605401243227554, 'BETA_': 0.009859364884764854, 'P_': 0.00048000194881282695}. Best is trial 10 with value: 11.709704399108887.\u001b[0m\n",
      "\u001b[32m[I 2023-03-16 18:18:19,222]\u001b[0m Trial 22 finished with value: 18.79259490966797 and parameters: {'ETA_': 0.1553978100894562, 'BETA_': 0.008461065697298624, 'P_': 0.0006725045556065844}. Best is trial 10 with value: 11.709704399108887.\u001b[0m\n",
      "\u001b[32m[I 2023-03-16 18:18:25,437]\u001b[0m Trial 23 finished with value: 14.648725509643555 and parameters: {'ETA_': 0.09799375603290375, 'BETA_': 0.00994561040511437, 'P_': 0.00034175887546031064}. Best is trial 10 with value: 11.709704399108887.\u001b[0m\n",
      "\u001b[32m[I 2023-03-16 18:18:31,645]\u001b[0m Trial 24 finished with value: 20.389142990112305 and parameters: {'ETA_': 0.12995468552070333, 'BETA_': 0.007728418355021895, 'P_': 0.0035173247344628977}. Best is trial 10 with value: 11.709704399108887.\u001b[0m\n",
      "\u001b[32m[I 2023-03-16 18:18:37,885]\u001b[0m Trial 25 finished with value: 15.263025283813477 and parameters: {'ETA_': 0.16036301483551962, 'BETA_': 0.009224796891951308, 'P_': 0.0029624135369127587}. Best is trial 10 with value: 11.709704399108887.\u001b[0m\n",
      "\u001b[32m[I 2023-03-16 18:18:44,090]\u001b[0m Trial 26 finished with value: 15.666234970092773 and parameters: {'ETA_': 0.12230331540628159, 'BETA_': 0.008311895822536974, 'P_': 0.007223595453310014}. Best is trial 10 with value: 11.709704399108887.\u001b[0m\n",
      "\u001b[32m[I 2023-03-16 18:18:50,313]\u001b[0m Trial 27 finished with value: 24.94927978515625 and parameters: {'ETA_': 0.08668524072127573, 'BETA_': 0.005862163618193784, 'P_': 0.013306463711563825}. Best is trial 10 with value: 11.709704399108887.\u001b[0m\n",
      "\u001b[32m[I 2023-03-16 18:18:56,471]\u001b[0m Trial 28 finished with value: 20.75679588317871 and parameters: {'ETA_': 0.13961719897097133, 'BETA_': 0.009102802769339998, 'P_': 0.004006850783652393}. Best is trial 10 with value: 11.709704399108887.\u001b[0m\n",
      "\u001b[32m[I 2023-03-16 18:19:02,669]\u001b[0m Trial 29 finished with value: 19.936782836914062 and parameters: {'ETA_': 0.10270174623017504, 'BETA_': 0.009986818180875283, 'P_': 0.0019885213986990296}. Best is trial 10 with value: 11.709704399108887.\u001b[0m\n",
      "\u001b[32m[I 2023-03-16 18:19:08,859]\u001b[0m Trial 30 finished with value: 20.61272430419922 and parameters: {'ETA_': 0.055868760331794186, 'BETA_': 0.007287573503738707, 'P_': 0.010978579158765734}. Best is trial 10 with value: 11.709704399108887.\u001b[0m\n",
      "\u001b[32m[I 2023-03-16 18:19:15,073]\u001b[0m Trial 31 finished with value: 17.224409103393555 and parameters: {'ETA_': 0.09457314322073553, 'BETA_': 0.009919664449667485, 'P_': 0.0003258200270599469}. Best is trial 10 with value: 11.709704399108887.\u001b[0m\n",
      "\u001b[32m[I 2023-03-16 18:19:21,209]\u001b[0m Trial 32 finished with value: 19.687211990356445 and parameters: {'ETA_': 0.11707112276922503, 'BETA_': 0.009422391018431002, 'P_': 0.00010111102266977749}. Best is trial 10 with value: 11.709704399108887.\u001b[0m\n",
      "\u001b[32m[I 2023-03-16 18:19:27,398]\u001b[0m Trial 33 finished with value: 17.03217887878418 and parameters: {'ETA_': 0.13841909233744368, 'BETA_': 0.008923089059203268, 'P_': 0.002233954085942954}. Best is trial 10 with value: 11.709704399108887.\u001b[0m\n",
      "\u001b[32m[I 2023-03-16 18:19:33,582]\u001b[0m Trial 34 finished with value: 16.619565963745117 and parameters: {'ETA_': 0.07831271077844341, 'BETA_': 0.008509850594530171, 'P_': 0.0013271182187804187}. Best is trial 10 with value: 11.709704399108887.\u001b[0m\n",
      "\u001b[32m[I 2023-03-16 18:19:39,786]\u001b[0m Trial 35 finished with value: 17.388059616088867 and parameters: {'ETA_': 0.1335616917877615, 'BETA_': 0.009991667635229134, 'P_': 0.004350051492579932}. Best is trial 10 with value: 11.709704399108887.\u001b[0m\n",
      "\u001b[32m[I 2023-03-16 18:19:46,003]\u001b[0m Trial 36 finished with value: 17.993492126464844 and parameters: {'ETA_': 0.1068251744846927, 'BETA_': 0.009482779831564732, 'P_': 0.002482396413075629}. Best is trial 10 with value: 11.709704399108887.\u001b[0m\n",
      "\u001b[32m[I 2023-03-16 18:19:52,212]\u001b[0m Trial 37 finished with value: 17.374345779418945 and parameters: {'ETA_': 0.16765148592067813, 'BETA_': 0.008111191964309244, 'P_': 0.0013401531505708166}. Best is trial 10 with value: 11.709704399108887.\u001b[0m\n",
      "\u001b[32m[I 2023-03-16 18:19:58,426]\u001b[0m Trial 38 finished with value: 17.122663497924805 and parameters: {'ETA_': 0.14729326324878164, 'BETA_': 0.008766402332531554, 'P_': 0.00010898428746092845}. Best is trial 10 with value: 11.709704399108887.\u001b[0m\n",
      "\u001b[32m[I 2023-03-16 18:20:04,653]\u001b[0m Trial 39 finished with value: 26.2969970703125 and parameters: {'ETA_': 0.032968052060449074, 'BETA_': 0.003495359890933988, 'P_': 0.005932739590191267}. Best is trial 10 with value: 11.709704399108887.\u001b[0m\n",
      "\u001b[32m[I 2023-03-16 18:20:10,854]\u001b[0m Trial 40 finished with value: 17.76772117614746 and parameters: {'ETA_': 0.06635106767048063, 'BETA_': 0.009586092185115809, 'P_': 0.0046443440347592275}. Best is trial 10 with value: 11.709704399108887.\u001b[0m\n",
      "\u001b[32m[I 2023-03-16 18:20:17,063]\u001b[0m Trial 41 finished with value: 14.945404052734375 and parameters: {'ETA_': 0.12382096133509152, 'BETA_': 0.009689307609282669, 'P_': 0.0009759961286111642}. Best is trial 10 with value: 11.709704399108887.\u001b[0m\n",
      "\u001b[32m[I 2023-03-16 18:20:23,261]\u001b[0m Trial 42 finished with value: 15.470297813415527 and parameters: {'ETA_': 0.12975932083810301, 'BETA_': 0.008738931085607637, 'P_': 0.0012891851853428856}. Best is trial 10 with value: 11.709704399108887.\u001b[0m\n",
      "\u001b[32m[I 2023-03-16 18:20:29,467]\u001b[0m Trial 43 finished with value: 13.473226547241211 and parameters: {'ETA_': 0.09677972944481852, 'BETA_': 0.009359334810153958, 'P_': 0.0024798691119873317}. Best is trial 10 with value: 11.709704399108887.\u001b[0m\n",
      "\u001b[32m[I 2023-03-16 18:20:35,652]\u001b[0m Trial 44 finished with value: 17.374404907226562 and parameters: {'ETA_': 0.09424999308081473, 'BETA_': 0.00929919058446883, 'P_': 0.0025111599771574507}. Best is trial 10 with value: 11.709704399108887.\u001b[0m\n",
      "\u001b[32m[I 2023-03-16 18:20:41,866]\u001b[0m Trial 45 finished with value: 14.874516487121582 and parameters: {'ETA_': 0.10283926423285406, 'BETA_': 0.007851738151464966, 'P_': 0.0018426550093612719}. Best is trial 10 with value: 11.709704399108887.\u001b[0m\n",
      "\u001b[32m[I 2023-03-16 18:20:48,087]\u001b[0m Trial 46 finished with value: 21.51523780822754 and parameters: {'ETA_': 0.08389003434678864, 'BETA_': 0.00867981873548433, 'P_': 0.01622759132171492}. Best is trial 10 with value: 11.709704399108887.\u001b[0m\n",
      "\u001b[32m[I 2023-03-16 18:20:54,309]\u001b[0m Trial 47 finished with value: 18.849760055541992 and parameters: {'ETA_': 0.11509283171128512, 'BETA_': 0.00950361018996224, 'P_': 0.0029846945694754655}. Best is trial 10 with value: 11.709704399108887.\u001b[0m\n",
      "\u001b[32m[I 2023-03-16 18:21:00,536]\u001b[0m Trial 48 finished with value: 19.090375900268555 and parameters: {'ETA_': 0.07342973476344981, 'BETA_': 0.008165472667621899, 'P_': 0.0009585163830313659}. Best is trial 10 with value: 11.709704399108887.\u001b[0m\n",
      "\u001b[32m[I 2023-03-16 18:21:06,749]\u001b[0m Trial 49 finished with value: 22.961040496826172 and parameters: {'ETA_': 0.14386811937253408, 'BETA_': 0.004955666175132859, 'P_': 0.006135699021757457}. Best is trial 10 with value: 11.709704399108887.\u001b[0m\n",
      "\u001b[32m[I 2023-03-16 18:21:12,990]\u001b[0m Trial 50 finished with value: 16.773815155029297 and parameters: {'ETA_': 0.09606706580784682, 'BETA_': 0.006915903568561894, 'P_': 0.005254805239195659}. Best is trial 10 with value: 11.709704399108887.\u001b[0m\n",
      "\u001b[32m[I 2023-03-16 18:21:19,181]\u001b[0m Trial 51 finished with value: 15.357865333557129 and parameters: {'ETA_': 0.12354650716035144, 'BETA_': 0.009963790812153508, 'P_': 0.0001466957199180133}. Best is trial 10 with value: 11.709704399108887.\u001b[0m\n",
      "\u001b[32m[I 2023-03-16 18:21:25,375]\u001b[0m Trial 52 finished with value: 9.646111488342285 and parameters: {'ETA_': 0.12757746868719266, 'BETA_': 0.009092935020869497, 'P_': 0.0008926984462542586}. Best is trial 52 with value: 9.646111488342285.\u001b[0m\n",
      "\u001b[32m[I 2023-03-16 18:21:31,597]\u001b[0m Trial 53 finished with value: 12.663887977600098 and parameters: {'ETA_': 0.10962659514753895, 'BETA_': 0.009099914708436768, 'P_': 0.0017623853667429446}. Best is trial 52 with value: 9.646111488342285.\u001b[0m\n",
      "\u001b[32m[I 2023-03-16 18:21:37,789]\u001b[0m Trial 54 finished with value: 13.253949165344238 and parameters: {'ETA_': 0.11121858391549794, 'BETA_': 0.008964235979462788, 'P_': 0.001745211646370186}. Best is trial 52 with value: 9.646111488342285.\u001b[0m\n",
      "\u001b[32m[I 2023-03-16 18:21:43,984]\u001b[0m Trial 55 finished with value: 23.143280029296875 and parameters: {'ETA_': 0.11054063046979577, 'BETA_': 0.008991034481829384, 'P_': 0.003312452078715462}. Best is trial 52 with value: 9.646111488342285.\u001b[0m\n",
      "\u001b[32m[I 2023-03-16 18:21:50,193]\u001b[0m Trial 56 finished with value: 13.074483871459961 and parameters: {'ETA_': 0.08739223735073393, 'BETA_': 0.008475139995975019, 'P_': 0.001944703141910919}. Best is trial 52 with value: 9.646111488342285.\u001b[0m\n",
      "\u001b[32m[I 2023-03-16 18:21:56,426]\u001b[0m Trial 57 finished with value: 19.569320678710938 and parameters: {'ETA_': 0.13784866625358144, 'BETA_': 0.007530531337171898, 'P_': 0.001677595401989032}. Best is trial 52 with value: 9.646111488342285.\u001b[0m\n",
      "\u001b[32m[I 2023-03-16 18:22:02,627]\u001b[0m Trial 58 finished with value: 16.092573165893555 and parameters: {'ETA_': 0.11749685064334761, 'BETA_': 0.008462678421719284, 'P_': 0.003962015400910667}. Best is trial 52 with value: 9.646111488342285.\u001b[0m\n",
      "\u001b[32m[I 2023-03-16 18:22:08,825]\u001b[0m Trial 59 finished with value: 27.9232177734375 and parameters: {'ETA_': 0.08740610709926633, 'BETA_': 0.002010551556378298, 'P_': 0.0010650688133996549}. Best is trial 52 with value: 9.646111488342285.\u001b[0m\n",
      "\u001b[32m[I 2023-03-16 18:22:14,967]\u001b[0m Trial 60 finished with value: 23.119869232177734 and parameters: {'ETA_': 0.15277472803915204, 'BETA_': 0.006186445590390341, 'P_': 0.008703961496686287}. Best is trial 52 with value: 9.646111488342285.\u001b[0m\n",
      "\u001b[32m[I 2023-03-16 18:22:21,137]\u001b[0m Trial 61 finished with value: 13.79800033569336 and parameters: {'ETA_': 0.1068485349363702, 'BETA_': 0.009192666868096108, 'P_': 0.0025885747139909945}. Best is trial 52 with value: 9.646111488342285.\u001b[0m\n",
      "\u001b[32m[I 2023-03-16 18:22:27,316]\u001b[0m Trial 62 finished with value: 14.529699325561523 and parameters: {'ETA_': 0.11048582063534057, 'BETA_': 0.008924973503041604, 'P_': 0.0019340536693721563}. Best is trial 52 with value: 9.646111488342285.\u001b[0m\n",
      "\u001b[32m[I 2023-03-16 18:22:33,465]\u001b[0m Trial 63 finished with value: 13.725139617919922 and parameters: {'ETA_': 0.09011824363920704, 'BETA_': 0.009293515135296814, 'P_': 0.0030389748571417836}. Best is trial 52 with value: 9.646111488342285.\u001b[0m\n",
      "\u001b[32m[I 2023-03-16 18:22:39,631]\u001b[0m Trial 64 finished with value: 14.490498542785645 and parameters: {'ETA_': 0.13183896364176997, 'BETA_': 0.009616472165914857, 'P_': 0.0008635173816366932}. Best is trial 52 with value: 9.646111488342285.\u001b[0m\n",
      "\u001b[32m[I 2023-03-16 18:22:45,798]\u001b[0m Trial 65 finished with value: 19.93488311767578 and parameters: {'ETA_': 0.001963799498168467, 'BETA_': 0.007973575307572634, 'P_': 0.010754341190621916}. Best is trial 52 with value: 9.646111488342285.\u001b[0m\n",
      "\u001b[32m[I 2023-03-16 18:22:51,962]\u001b[0m Trial 66 finished with value: 18.545513153076172 and parameters: {'ETA_': 0.07914591095820157, 'BETA_': 0.008418234232290767, 'P_': 0.003859384261175744}. Best is trial 52 with value: 9.646111488342285.\u001b[0m\n",
      "\u001b[32m[I 2023-03-16 18:22:58,162]\u001b[0m Trial 67 finished with value: 16.252981185913086 and parameters: {'ETA_': 0.10253529451339197, 'BETA_': 0.008672813107923798, 'P_': 0.004794037180119615}. Best is trial 52 with value: 9.646111488342285.\u001b[0m\n",
      "\u001b[32m[I 2023-03-16 18:23:04,394]\u001b[0m Trial 68 finished with value: 19.176427841186523 and parameters: {'ETA_': 0.12047970824934931, 'BETA_': 0.009073246534876123, 'P_': 0.0021355874781569437}. Best is trial 52 with value: 9.646111488342285.\u001b[0m\n",
      "\u001b[32m[I 2023-03-16 18:23:10,614]\u001b[0m Trial 69 finished with value: 17.15082550048828 and parameters: {'ETA_': 0.05176115902736247, 'BETA_': 0.00967408425834369, 'P_': 0.0016472079938577317}. Best is trial 52 with value: 9.646111488342285.\u001b[0m\n",
      "\u001b[32m[I 2023-03-16 18:23:16,790]\u001b[0m Trial 70 finished with value: 19.273927688598633 and parameters: {'ETA_': 0.16204594185604843, 'BETA_': 0.00935438235616674, 'P_': 0.0007814165785777064}. Best is trial 52 with value: 9.646111488342285.\u001b[0m\n",
      "\u001b[32m[I 2023-03-16 18:23:23,012]\u001b[0m Trial 71 finished with value: 16.97819709777832 and parameters: {'ETA_': 0.12824002829672349, 'BETA_': 0.009757793856360705, 'P_': 0.0007045407915133666}. Best is trial 52 with value: 9.646111488342285.\u001b[0m\n",
      "\u001b[32m[I 2023-03-16 18:23:29,231]\u001b[0m Trial 72 finished with value: 17.92724609375 and parameters: {'ETA_': 0.1369864666645378, 'BETA_': 0.008901482445032116, 'P_': 0.002569230990032908}. Best is trial 52 with value: 9.646111488342285.\u001b[0m\n",
      "\u001b[32m[I 2023-03-16 18:23:35,464]\u001b[0m Trial 73 finished with value: 18.645809173583984 and parameters: {'ETA_': 0.11652085194932471, 'BETA_': 0.00933142113381965, 'P_': 0.00138548843916541}. Best is trial 52 with value: 9.646111488342285.\u001b[0m\n",
      "\u001b[32m[I 2023-03-16 18:23:41,683]\u001b[0m Trial 74 finished with value: 17.132234573364258 and parameters: {'ETA_': 0.14368011634522532, 'BETA_': 0.009742523864459542, 'P_': 0.01201973266851647}. Best is trial 52 with value: 9.646111488342285.\u001b[0m\n",
      "\u001b[32m[I 2023-03-16 18:23:47,888]\u001b[0m Trial 75 finished with value: 15.877779006958008 and parameters: {'ETA_': 0.12565504057510762, 'BETA_': 0.00825056503965126, 'P_': 0.0005706161219464917}. Best is trial 52 with value: 9.646111488342285.\u001b[0m\n",
      "\u001b[32m[I 2023-03-16 18:23:54,077]\u001b[0m Trial 76 finished with value: 16.88981056213379 and parameters: {'ETA_': 0.10090082815329926, 'BETA_': 0.009148080366741133, 'P_': 0.0035719247334951723}. Best is trial 52 with value: 9.646111488342285.\u001b[0m\n",
      "\u001b[32m[I 2023-03-16 18:24:00,202]\u001b[0m Trial 77 finished with value: 19.391128540039062 and parameters: {'ETA_': 0.18213341517211218, 'BETA_': 0.009544819066361836, 'P_': 0.001895605968991773}. Best is trial 52 with value: 9.646111488342285.\u001b[0m\n",
      "\u001b[32m[I 2023-03-16 18:24:06,325]\u001b[0m Trial 78 finished with value: 18.76580810546875 and parameters: {'ETA_': 0.11170591527441627, 'BETA_': 0.008745879426392902, 'P_': 0.001348045385354389}. Best is trial 52 with value: 9.646111488342285.\u001b[0m\n",
      "\u001b[32m[I 2023-03-16 18:24:12,525]\u001b[0m Trial 79 finished with value: 17.562185287475586 and parameters: {'ETA_': 0.14846157804793497, 'BETA_': 0.008597930964987975, 'P_': 0.0027263723633693246}. Best is trial 52 with value: 9.646111488342285.\u001b[0m\n",
      "\u001b[32m[I 2023-03-16 18:24:18,757]\u001b[0m Trial 80 finished with value: 22.798919677734375 and parameters: {'ETA_': 0.12024071090494386, 'BETA_': 0.007509672029796911, 'P_': 0.017514218983554833}. Best is trial 52 with value: 9.646111488342285.\u001b[0m\n",
      "\u001b[32m[I 2023-03-16 18:24:24,948]\u001b[0m Trial 81 finished with value: 17.13268280029297 and parameters: {'ETA_': 0.0896722695178863, 'BETA_': 0.009315119830224539, 'P_': 0.003074090772960207}. Best is trial 52 with value: 9.646111488342285.\u001b[0m\n",
      "\u001b[32m[I 2023-03-16 18:24:31,153]\u001b[0m Trial 82 finished with value: 14.397465705871582 and parameters: {'ETA_': 0.08963697056857517, 'BETA_': 0.00978937531956172, 'P_': 0.00012940358383724653}. Best is trial 52 with value: 9.646111488342285.\u001b[0m\n",
      "\u001b[32m[I 2023-03-16 18:24:37,349]\u001b[0m Trial 83 finished with value: 14.2847900390625 and parameters: {'ETA_': 0.08014036702144328, 'BETA_': 0.009401088970955498, 'P_': 0.002082597543919608}. Best is trial 52 with value: 9.646111488342285.\u001b[0m\n",
      "\u001b[32m[I 2023-03-16 18:24:43,564]\u001b[0m Trial 84 finished with value: 17.40558624267578 and parameters: {'ETA_': 0.07159001608532017, 'BETA_': 0.009050732495861483, 'P_': 0.004355012309193641}. Best is trial 52 with value: 9.646111488342285.\u001b[0m\n",
      "\u001b[32m[I 2023-03-16 18:24:49,827]\u001b[0m Trial 85 finished with value: 18.400564193725586 and parameters: {'ETA_': 0.09293796942147112, 'BETA_': 0.008862064402988475, 'P_': 0.0006405541864757081}. Best is trial 52 with value: 9.646111488342285.\u001b[0m\n",
      "\u001b[32m[I 2023-03-16 18:24:56,089]\u001b[0m Trial 86 finished with value: 15.778474807739258 and parameters: {'ETA_': 0.09752039418024633, 'BETA_': 0.009966246045419206, 'P_': 0.0015271497322335817}. Best is trial 52 with value: 9.646111488342285.\u001b[0m\n",
      "\u001b[32m[I 2023-03-16 18:25:02,290]\u001b[0m Trial 87 finished with value: 18.260555267333984 and parameters: {'ETA_': 0.10615004632933026, 'BETA_': 0.00951177672072221, 'P_': 0.0073180031109600545}. Best is trial 52 with value: 9.646111488342285.\u001b[0m\n",
      "\u001b[32m[I 2023-03-16 18:25:08,510]\u001b[0m Trial 88 finished with value: 21.923202514648438 and parameters: {'ETA_': 0.13264302883538762, 'BETA_': 0.005174197069588707, 'P_': 0.0033254279268612407}. Best is trial 52 with value: 9.646111488342285.\u001b[0m\n",
      "\u001b[32m[I 2023-03-16 18:25:14,740]\u001b[0m Trial 89 finished with value: 16.1263427734375 and parameters: {'ETA_': 0.08325642342762285, 'BETA_': 0.00920963416390654, 'P_': 0.0012532400079236737}. Best is trial 52 with value: 9.646111488342285.\u001b[0m\n",
      "\u001b[32m[I 2023-03-16 18:25:20,958]\u001b[0m Trial 90 finished with value: 26.425256729125977 and parameters: {'ETA_': 0.11398659115703619, 'BETA_': 0.004072728972123435, 'P_': 0.002356746380941865}. Best is trial 52 with value: 9.646111488342285.\u001b[0m\n",
      "\u001b[32m[I 2023-03-16 18:25:27,227]\u001b[0m Trial 91 finished with value: 18.609966278076172 and parameters: {'ETA_': 0.10769382015807122, 'BETA_': 0.009174091467413307, 'P_': 0.002799734441046631}. Best is trial 52 with value: 9.646111488342285.\u001b[0m\n",
      "\u001b[32m[I 2023-03-16 18:25:33,481]\u001b[0m Trial 92 finished with value: 16.436246871948242 and parameters: {'ETA_': 0.12753396298638064, 'BETA_': 0.009758745817461749, 'P_': 0.002506828774813058}. Best is trial 52 with value: 9.646111488342285.\u001b[0m\n",
      "\u001b[32m[I 2023-03-16 18:25:39,699]\u001b[0m Trial 93 finished with value: 15.347233772277832 and parameters: {'ETA_': 0.10572010757257018, 'BETA_': 0.008334844778177024, 'P_': 0.0005727393399679996}. Best is trial 52 with value: 9.646111488342285.\u001b[0m\n",
      "\u001b[32m[I 2023-03-16 18:25:45,929]\u001b[0m Trial 94 finished with value: 15.908051490783691 and parameters: {'ETA_': 0.09873259000216646, 'BETA_': 0.009518767635877211, 'P_': 0.0010659333364555219}. Best is trial 52 with value: 9.646111488342285.\u001b[0m\n",
      "\u001b[32m[I 2023-03-16 18:25:52,158]\u001b[0m Trial 95 finished with value: 15.088516235351562 and parameters: {'ETA_': 0.12079984764870859, 'BETA_': 0.009032379450720805, 'P_': 0.0019487029096694163}. Best is trial 52 with value: 9.646111488342285.\u001b[0m\n",
      "\u001b[32m[I 2023-03-16 18:25:58,360]\u001b[0m Trial 96 finished with value: 19.64210319519043 and parameters: {'ETA_': 0.14029706396357963, 'BETA_': 0.008541707773225734, 'P_': 0.003022839459180273}. Best is trial 52 with value: 9.646111488342285.\u001b[0m\n"
     ]
    },
    {
     "name": "stdout",
     "output_type": "stream",
     "text": [
      "Best trial:\n",
      "  Value:  9.646111488342285\n",
      "  Params: \n",
      "    ETA_: 0.12757746868719266\n",
      "    BETA_: 0.009092935020869497\n",
      "    P_: 0.0008926984462542586\n"
     ]
    }
   ],
   "source": [
    "def objective(trial):\n",
    "    \n",
    "    # to be optimized params\n",
    "    eta__ = trial.suggest_float('ETA_',0.001,0.2)\n",
    "    beta_ = trial.suggest_float('BETA_',0.001,0.01)\n",
    "    p_ = trial.suggest_float('P_',1e-4,2e-2)\n",
    "    \n",
    "    kl_reg_ = [beta_, p_]  # identified with optuna\n",
    "\n",
    "    params = nn_dim_,eta_,mini_sz_,num_epo_,kl_reg_,sig_param\n",
    "    \n",
    "    # initialize model and weights\n",
    "    model = aet_net.net(params,lossfun)\n",
    "    model = aet_net.init_params(model,weight_init='uni')\n",
    "    optimizer = torch.optim.SGD(model.parameters(),lr=eta_)\n",
    "    \n",
    "    model.to(DEVICE)\n",
    "    loss_hist = model.train(optimizer,noise=False,print_loss=False)\n",
    "    \n",
    "    # \"tangledness\" of hidden represenations\n",
    "\n",
    "    idx = np.array((0,5,10))#,-1))\n",
    "    inp_combi = list(combinations(idx,2))           # possible input combinations\n",
    "    all_angle_sum = torch.zeros(len(inp_combi))\n",
    "\n",
    "    for i,c in enumerate(inp_combi):\n",
    "\n",
    "        H1 = data[c[0]]\n",
    "        H2 = data[c[1]]\n",
    "        H3 = data[c[0]]+data[c[1]]\n",
    "\n",
    "        # apply layer\n",
    "        _,H1,_ = model.forw_conv(H1)\n",
    "        _,H2,_ = model.forw_conv(H2)\n",
    "        _,H3,_ = model.forw_conv(H3)\n",
    "\n",
    "        H1_2 = H1+H2\n",
    "\n",
    "\n",
    "        num_ = torch.matmul(H3,H1_2)\n",
    "        denom_ = torch.linalg.vector_norm(H3)*torch.linalg.vector_norm(H1_2)\n",
    "        all_angle_sum[i] = (torch.acos(num_/denom_)*180/torch.pi).cpu().detach()\n",
    "\n",
    "    \n",
    "    return torch.mean(loss_hist[:-20]) + torch.mean(all_angle_sum)\n",
    "\n",
    "study = optuna.create_study(direction=\"minimize\")\n",
    "study.optimize(objective, n_trials=100, timeout=600)\n",
    "\n",
    "# pruned_trials = study.get_trials(deepcopy=False, states=[TrialState.PRUNED])\n",
    "# complete_trials = study.get_trials(deepcopy=False, states=[TrialState.COMPLETE])\n",
    "\n",
    "# print(\"Study statistics: \")\n",
    "# print(\"  Number of finished trials: \", len(study.trials))\n",
    "# print(\"  Number of pruned trials: \", len(pruned_trials))\n",
    "# print(\"  Number of complete trials: \", len(complete_trials))\n",
    "\n",
    "print(\"Best trial:\")\n",
    "trial = study.best_trial\n",
    "\n",
    "print(\"  Value: \", trial.value)\n",
    "\n",
    "print(\"  Params: \")\n",
    "for key, value in trial.params.items():\n",
    "    print(\"    {}: {}\".format(key, value))"
   ]
  },
  {
   "cell_type": "code",
   "execution_count": 7,
   "id": "6f1a30c2-6d14-4304-9c59-4dc4e6b4d6c1",
   "metadata": {},
   "outputs": [],
   "source": [
    "import pickle"
   ]
  },
  {
   "cell_type": "code",
   "execution_count": 8,
   "id": "2a9e0a69-487b-4e3b-a9dc-62eb1da2bd99",
   "metadata": {},
   "outputs": [],
   "source": [
    "optuna_aet_result = {key: value for key, value in study.best_trial.params.items()}"
   ]
  },
  {
   "cell_type": "code",
   "execution_count": 9,
   "id": "d0997092-7a3f-4155-bfd8-d555e46cf840",
   "metadata": {},
   "outputs": [],
   "source": [
    "optuna_aet_result = [{'loss': study.best_trial.value},optuna_aet_result]"
   ]
  },
  {
   "cell_type": "code",
   "execution_count": 10,
   "id": "69c60e46-b1ad-4673-b4be-1feab88bf7f7",
   "metadata": {},
   "outputs": [
    {
     "data": {
      "text/plain": [
       "[{'loss': 9.646111488342285},\n",
       " {'ETA_': 0.12757746868719266,\n",
       "  'BETA_': 0.009092935020869497,\n",
       "  'P_': 0.0008926984462542586}]"
      ]
     },
     "execution_count": 10,
     "metadata": {},
     "output_type": "execute_result"
    }
   ],
   "source": [
    "optuna_aet_result"
   ]
  },
  {
   "cell_type": "code",
   "execution_count": 11,
   "id": "a6411746-f5c4-402f-81ae-b130acc77992",
   "metadata": {},
   "outputs": [
    {
     "name": "stdout",
     "output_type": "stream",
     "text": [
      "dictionary saved successfully to file\n"
     ]
    }
   ],
   "source": [
    "with open('optuna_aet_trial.pkl', 'wb') as fp:\n",
    "    pickle.dump(optuna_aet_result, fp)\n",
    "    print('dictionary saved successfully to file')"
   ]
  },
  {
   "cell_type": "code",
   "execution_count": 12,
   "id": "95bfc640-54ef-4ca6-9181-885a4af5d08c",
   "metadata": {},
   "outputs": [],
   "source": [
    "del optuna_aet_result"
   ]
  },
  {
   "cell_type": "code",
   "execution_count": 13,
   "id": "688bd529-6a84-4f68-a9a8-addecb918c14",
   "metadata": {},
   "outputs": [
    {
     "name": "stdout",
     "output_type": "stream",
     "text": [
      "optuna result\n",
      "[{'loss': 9.646111488342285}, {'ETA_': 0.12757746868719266, 'BETA_': 0.009092935020869497, 'P_': 0.0008926984462542586}]\n"
     ]
    }
   ],
   "source": [
    "with open('optuna_aet_trial.pkl', 'rb') as fp:\n",
    "    optuna_aet_result = pickle.load(fp)\n",
    "    print('optuna result')\n",
    "    print(optuna_aet_result)"
   ]
  }
 ],
 "metadata": {
  "kernelspec": {
   "display_name": "Python",
   "language": "python",
   "name": "sys_python"
  },
  "language_info": {
   "codemirror_mode": {
    "name": "ipython",
    "version": 3
   },
   "file_extension": ".py",
   "mimetype": "text/x-python",
   "name": "python",
   "nbconvert_exporter": "python",
   "pygments_lexer": "ipython3",
   "version": "3.9.5"
  },
  "papermill": {
   "default_parameters": {},
   "duration": 656.318347,
   "end_time": "2022-09-05T14:40:18.766106",
   "environment_variables": {},
   "exception": true,
   "input_path": "__notebook__.ipynb",
   "output_path": "__notebook__.ipynb",
   "parameters": {},
   "start_time": "2022-09-05T14:29:22.447759",
   "version": "2.3.4"
  },
  "toc-autonumbering": true,
  "toc-showmarkdowntxt": true
 },
 "nbformat": 4,
 "nbformat_minor": 5
}
