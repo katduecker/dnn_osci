{
 "cells": [
  {
   "cell_type": "code",
   "execution_count": 1,
   "id": "5fe8acbf-28df-4746-b2d6-7033a0d67e63",
   "metadata": {},
   "outputs": [],
   "source": [
    "import os\n",
    "os.chdir('/rds/projects/j/jenseno-visual-search-rft/AET NN')\n"
   ]
  },
  {
   "cell_type": "code",
   "execution_count": 2,
   "id": "dcee50c8-e61a-436e-ae7f-f420a81807ae",
   "metadata": {},
   "outputs": [],
   "source": [
    "import optuna\n",
    "import torch\n",
    "from torch import nn\n",
    "\n",
    "import numpy as np\n",
    "import aet_net\n",
    "from itertools import combinations\n",
    "\n",
    "import matplotlib.pyplot as plt"
   ]
  },
  {
   "cell_type": "code",
   "execution_count": 4,
   "id": "e3f87f80-e63c-405a-8baa-68d0d1872e5a",
   "metadata": {},
   "outputs": [
    {
     "name": "stdout",
     "output_type": "stream",
     "text": [
      "optuna result\n",
      "[{'loss': 2.7408602237701416}, {'ETA_': 0.1110814367272019, 'BETA_': 0.0076329758600648286, 'P_': 0.0006413053701833462, 'slope_sig': 4}]\n"
     ]
    }
   ],
   "source": [
    "import pickle\n",
    "with open('optuna_aet_trial.pkl','rb') as fp:\n",
    "    optuna_aet_result = pickle.load(fp)\n",
    "    print('optuna result')\n",
    "    print(optuna_aet_result)"
   ]
  },
  {
   "cell_type": "code",
   "execution_count": 15,
   "id": "24b569cd-65e2-42a5-b767-1671bf42b172",
   "metadata": {},
   "outputs": [],
   "source": [
    "DEVICE = torch.device('cuda' if torch.cuda.is_available() else 'cpu')\n",
    "\n",
    "# model parameters\n",
    "\n",
    "nn_dim_ = [28,68,3]   # [quadrant size, number of hidden nodes, number of output nodes]\n",
    "eta_ = optuna_aet_result[1]['ETA_']          # learning rate\n",
    "mini_sz_ = 1          # mini batch size (1 = use SGD)\n",
    "num_epo_ = 80\n",
    "kl_reg_ = [optuna_aet_result[1]['BETA_'], optuna_aet_result[1]['P_']]  # identified with optuna\n",
    "sig_param = [1, 0] # sigmoid slope and shift in x direction\n",
    "\n",
    "# loss function & final layer activation (for binary crossentropy use sigmoid)\n",
    "lossfun = [nn.MSELoss(), nn.Softmax(dim=-1)]\n",
    "\n",
    "params = nn_dim_,eta_,mini_sz_,num_epo_,kl_reg_,sig_param\n",
    "\n",
    "# initialize model and weights\n",
    "model = aet_net.net(params,lossfun)\n",
    "model = aet_net.init_params(model,weight_init='uni')\n",
    "optimizer = torch.optim.SGD(model.parameters(),lr=eta_)\n",
    "\n",
    "model.to(DEVICE)\n",
    "loss_hist = model.train(optimizer,noise=False,print_loss=False)"
   ]
  },
  {
   "cell_type": "code",
   "execution_count": 16,
   "id": "3f5e43f4-02cd-48b7-81f3-138a2fadaa8f",
   "metadata": {},
   "outputs": [
    {
     "ename": "NameError",
     "evalue": "name 'data' is not defined",
     "output_type": "error",
     "traceback": [
      "\u001b[0;31m---------------------------------------------------------------------------\u001b[0m",
      "\u001b[0;31mNameError\u001b[0m                                 Traceback (most recent call last)",
      "\u001b[0;32m/tmp/ipykernel_3158495/3737982321.py\u001b[0m in \u001b[0;36m<module>\u001b[0;34m\u001b[0m\n\u001b[1;32m     15\u001b[0m \u001b[0mtimevec\u001b[0m \u001b[0;34m=\u001b[0m \u001b[0mnp\u001b[0m\u001b[0;34m.\u001b[0m\u001b[0mlinspace\u001b[0m\u001b[0;34m(\u001b[0m\u001b[0;36m0\u001b[0m\u001b[0;34m,\u001b[0m\u001b[0;36m0.6\u001b[0m\u001b[0;34m,\u001b[0m\u001b[0;36m600\u001b[0m\u001b[0;34m)\u001b[0m\u001b[0;34m\u001b[0m\u001b[0;34m\u001b[0m\u001b[0m\n\u001b[1;32m     16\u001b[0m \u001b[0;34m\u001b[0m\u001b[0m\n\u001b[0;32m---> 17\u001b[0;31m \u001b[0mZ_t\u001b[0m\u001b[0;34m,\u001b[0m\u001b[0mH_t\u001b[0m\u001b[0;34m,\u001b[0m \u001b[0mR_t\u001b[0m\u001b[0;34m,\u001b[0m \u001b[0mO_t\u001b[0m  \u001b[0;34m=\u001b[0m \u001b[0maet_dyn\u001b[0m\u001b[0;34m.\u001b[0m\u001b[0meuler_dyn\u001b[0m\u001b[0;34m(\u001b[0m\u001b[0mmodel\u001b[0m\u001b[0;34m,\u001b[0m\u001b[0mdata\u001b[0m\u001b[0;34m[\u001b[0m\u001b[0;36m0\u001b[0m\u001b[0;34m]\u001b[0m\u001b[0;34m,\u001b[0m \u001b[0mdyn_params\u001b[0m\u001b[0;34m,\u001b[0m \u001b[0mtimevec\u001b[0m\u001b[0;34m,\u001b[0m \u001b[0malpha_params\u001b[0m\u001b[0;34m,\u001b[0m\u001b[0mDEVICE\u001b[0m\u001b[0;34m,\u001b[0m\u001b[0minp_on\u001b[0m\u001b[0;34m=\u001b[0m\u001b[0m_io\u001b[0m\u001b[0;34m)\u001b[0m\u001b[0;34m\u001b[0m\u001b[0;34m\u001b[0m\u001b[0m\n\u001b[0m\u001b[1;32m     18\u001b[0m \u001b[0;34m\u001b[0m\u001b[0m\n\u001b[1;32m     19\u001b[0m \u001b[0mfig\u001b[0m\u001b[0;34m,\u001b[0m\u001b[0max\u001b[0m \u001b[0;34m=\u001b[0m \u001b[0mplt\u001b[0m\u001b[0;34m.\u001b[0m\u001b[0msubplots\u001b[0m\u001b[0;34m(\u001b[0m\u001b[0;36m3\u001b[0m\u001b[0;34m,\u001b[0m\u001b[0;36m1\u001b[0m\u001b[0;34m)\u001b[0m\u001b[0;34m\u001b[0m\u001b[0;34m\u001b[0m\u001b[0m\n",
      "\u001b[0;31mNameError\u001b[0m: name 'data' is not defined"
     ]
    }
   ],
   "source": [
    "# dynamics indiviudal input\n",
    "import aet_dyn\n",
    "\n",
    "plt.rcParams[\"figure.figsize\"] = (10,5)\n",
    "font = {'family' : 'Arial',\n",
    "        'weight' : 'normal',\n",
    "        'size'   : 16}\n",
    "plt.rc('font',**font)\n",
    "\n",
    "\n",
    "alpha_params = [10,3]\n",
    "dyn_params = [0.01,0.05,4,0.05,0,1]   # [tau_h, tau_r, r_scale factor, T, h start, R start]\n",
    "_io = 0\n",
    "\n",
    "timevec = np.linspace(0,0.6,600)\n",
    "\n",
    "Z_t,H_t, R_t, O_t  = aet_dyn.euler_dyn(model,data[0], dyn_params, timevec, alpha_params,DEVICE,inp_on=_io)\n",
    "\n",
    "fig,ax = plt.subplots(3,1)\n",
    "ax[2].plot(O_t.T.cpu().detach().numpy())\n",
    "ax[2].legend(('A(t)','E(t)','T(t)','Z(t)'),loc='lower right')\n",
    "ax[2].set_title('output')\n",
    "\n",
    "ax[1].plot(R_t.T.cpu().detach().numpy())\n",
    "ax[1].set_title('relaxation')\n",
    "ax[0].plot(H_t.T.cpu().detach().numpy())\n",
    "ax[0].set_title('hidden acti')\n",
    "\n",
    "if alpha_params[1]:\n",
    "    alpha_inh = 0.5*np.sin(2*np.pi*timevec*10)+0.5\n",
    "    ax[2].plot(alpha_inh,'k',linewidth=0.5,linestyle='-.')\n",
    "    ax[0].plot(alpha_inh,'k',linewidth=1,linestyle='-.')\n",
    "fig.tight_layout()\n",
    "\n",
    "fig.savefig('dyna_alpha_A.png')\n"
   ]
  }
 ],
 "metadata": {
  "kernelspec": {
   "display_name": "Python",
   "language": "python",
   "name": "sys_python"
  },
  "language_info": {
   "codemirror_mode": {
    "name": "ipython",
    "version": 3
   },
   "file_extension": ".py",
   "mimetype": "text/x-python",
   "name": "python",
   "nbconvert_exporter": "python",
   "pygments_lexer": "ipython3",
   "version": "3.9.5"
  }
 },
 "nbformat": 4,
 "nbformat_minor": 5
}
