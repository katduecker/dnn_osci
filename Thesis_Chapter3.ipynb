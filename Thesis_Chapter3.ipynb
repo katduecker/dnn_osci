{
  "nbformat": 4,
  "nbformat_minor": 0,
  "metadata": {
    "colab": {
      "provenance": [],
      "authorship_tag": "ABX9TyOMHxe49irIbCnkJqHhAVAj",
      "include_colab_link": true
    },
    "kernelspec": {
      "name": "python3",
      "display_name": "Python 3"
    },
    "language_info": {
      "name": "python"
    }
  },
  "cells": [
    {
      "cell_type": "markdown",
      "metadata": {
        "id": "view-in-github",
        "colab_type": "text"
      },
      "source": [
        "<a href=\"https://colab.research.google.com/github/katduecker/dnn_osci/blob/main/Thesis_Chapter3.ipynb\" target=\"_parent\"><img src=\"https://colab.research.google.com/assets/colab-badge.svg\" alt=\"Open In Colab\"/></a>"
      ]
    },
    {
      "cell_type": "code",
      "execution_count": null,
      "metadata": {
        "id": "kIOLtnOAONeC"
      },
      "outputs": [],
      "source": [
        "# 1) Characterise a single-neuron dynamical system\n",
        "\n",
        "\n",
        "# one neuron: describe dynamical system as a function of input\n",
        "# show that it is easily entrained\n",
        "# pulses build uo earlier for neurons with strong inputs\n",
        "\n",
        "# \"population rate model\"\n",
        "\n",
        "# H~R system\n",
        "# justify max(Z) scaling with homeostatic processes\n",
        "\n",
        "\n",
        "# timing/params: Abbot & DAyan\n",
        "# timing calcium dependent potassium channels"
      ]
    },
    {
      "cell_type": "code",
      "source": [
        "# 2) NN: 1 layer -> read out can be entrained to alpha\n",
        "\n",
        "# With set bias and slope to ensure sparsity constraints & orthogonality, high activation\n",
        "# Also show optimized sparsity constraints\n",
        "# Show how alpha reflects a duty cycle\n",
        "\n",
        "# temporal code"
      ],
      "metadata": {
        "id": "uOKBXg_AOsJa"
      },
      "execution_count": null,
      "outputs": []
    },
    {
      "cell_type": "code",
      "source": [
        "# 3) 2 layer NN\n",
        "\n",
        "# relationship between phase difference layer 1 & 2 and temporal codeness\n",
        "# pipelining?"
      ],
      "metadata": {
        "id": "GItuPMace77g"
      },
      "execution_count": null,
      "outputs": []
    }
  ]
}